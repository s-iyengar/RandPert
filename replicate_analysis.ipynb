{
 "cells": [
  {
   "cell_type": "markdown",
   "metadata": {},
   "source": [
    "Code verifies consistency after replicates"
   ]
  },
  {
   "cell_type": "code",
   "execution_count": 1,
   "metadata": {},
   "outputs": [],
   "source": [
    "import glob\n",
    "import numpy as np\n",
    "import itertools\n",
    "import pandas as pd\n",
    "import matplotlib.pyplot as plt\n",
    "import matplotlib.colors\n",
    "import seaborn as sns\n",
    "from scipy.optimize import root_scalar\n",
    "import BootstrapFunctions as bsf\n",
    "\n",
    "plt.rcParams['hatch.linewidth'] = 7.5\n",
    "\n",
    "sns.set(context='paper',style='whitegrid')\n",
    "plt.rcParams.update(\n",
    "    {\"text.usetex\": True})\n",
    "ibm_pal_rb = sns.blend_palette(['#648fff','#785ef0','#dc267f',],as_cmap=True)\n",
    "ibm_full_list = ['#648fff','#785ef0','#dc267f','#fe6100','#ffb000','#000000','#ffffff']\n",
    "category_palette = sns.color_palette(['#648fff','#785ef0','#dc267f',],as_cmap=True)"
   ]
  },
  {
   "cell_type": "code",
   "execution_count": 2,
   "metadata": {},
   "outputs": [],
   "source": [
    "def lin_eta_xx(eta_ll,eta_gg,fy,fx):\n",
    "    return (eta_ll + eta_gg*fy**2)/(1-fy-fx)**2\n",
    "def lin_eta_yy(eta_ll,eta_gg,fy,fx):\n",
    "    return (eta_ll + eta_gg*(1-fx)**2)/(1-fy-fx)**2\n",
    "def lin_eta_xy(eta_ll,eta_gg,fy,fx):\n",
    "    return (eta_ll + eta_gg*(1-fx)*fy)/(1-fy-fx)**2\n",
    "\n",
    "def f_hill(x,n,K):\n",
    "    if n == 0:\n",
    "        return 0\n",
    "    elif x == 0:\n",
    "        if n < 0:\n",
    "            return 1\n",
    "        else:\n",
    "            return 0\n",
    "    return (x**n)/(K**n+x**n)\n",
    "\n",
    "def OrGateTranscription(x,y,l,nx,kx,ny,ky,o):\n",
    "    if ((nx==0) and (ny == 0)) and (o == 0):\n",
    "        return l\n",
    "    return l*(f_hill(x,nx,kx)+f_hill(y,ny,ky)+o)\n",
    "\n",
    "def OrGatexsens(x,y,l,nx,kx,ny,ky,o):\n",
    "    if nx == 0:\n",
    "        return 0\n",
    "    elif x == 0:\n",
    "        return 0\n",
    "    else:\n",
    "        return (l*nx*(x**nx)*(kx**nx))/(OrGateTranscription(x,y,l,nx,kx,ny,ky,o)*(kx**nx + x**nx)**2)\n",
    "def OrGateysens(x,y,l,nx,kx,ny,ky,o):\n",
    "    if ny == 0:\n",
    "        return 0\n",
    "    elif y == 0:\n",
    "        return 0\n",
    "    else:\n",
    "        return (l*ny*(y**ny)*(ky**ny))/(OrGateTranscription(x,y,l,nx,kx,ny,ky,o)*(ky**ny + y**ny)**2)\n",
    "\n",
    "def v_hill(x,n,K):\n",
    "    if n == 0:\n",
    "        return np.zeros(x.shape)\n",
    "    elif n < 0:\n",
    "        return np.where(x==0,0,(x**n)/(K**n+x**n))\n",
    "    else:\n",
    "        return np.where(x==0,1,(x**n)/(K**n+x**n))\n",
    "\n",
    "def v_OrGateTranscription(x,y,l,nx,kx,ny,ky,o):\n",
    "    return l*(v_hill(x,nx,kx)+v_hill(y,ny,ky)+o)\n",
    "\n",
    "\n",
    "def vec_OrGatexsens(x,y,l,nx,kx,ny,ky,o):\n",
    "    if nx == 0:\n",
    "        return np.zeros(x.shape)\n",
    "    return np.where(x==0,0,\n",
    "            (l*nx*(x**nx)*(kx**nx))/(v_OrGateTranscription(x,y,l,nx,kx,ny,ky,o)*(kx**nx + x**nx)**2))\n",
    "\n",
    "def vec_OrGateysens(x,y,l,nx,kx,ny,ky,o):\n",
    "    if ny == 0:\n",
    "        return np.zeros(x.shape)\n",
    "    return np.where(y==0,0,\n",
    "                (l*ny*(y**ny)*(ky**ny))/(v_OrGateTranscription(x,y,l,nx,kx,ny,ky,o)*(ky**ny + y**ny)**2))\n",
    "\n",
    "\n",
    "def estimated_fb_val(exy,exx,eyy):\n",
    "    return (exy-exx)/(eyy-exy)\n",
    "\n",
    "def estimated_proteinpert(exy,exx,eyy):\n",
    "    return exx+eyy-2*exy\n",
    "\n",
    "def einsum_mean_cov_vars(x,y,correction=0):\n",
    "    \"\"\"\n",
    "    Using np.einsum, calculate, for two sets of vectors of (n,s) their means,variances, and covariances\n",
    "     in each of the n samples (ex from bootstrap) across the s datapoints. Use correction to change scale\n",
    "    on value (ex set to 1 for bessel)\n",
    "    \"\"\"\n",
    "    (n,s) = x.shape #n samples [ex.num samples of bootstrap] for s datapoints\n",
    "    mx = np.einsum(x,[0,1],[0])/s\n",
    "    my = np.einsum(y,[0,1],[0])/s\n",
    "    dx = (x.T - mx).T #transposing required to get numpy to elementwise subtract automatically\n",
    "    dy = (y.T - my).T \n",
    "    cxy = np.einsum(dx,[0,1],dy,[0,1],[0])/(s-correction)\n",
    "    vx = np.einsum(dx,[0,1],dx,[0,1],[0])/(s-correction)\n",
    "    vy = np.einsum(dy,[0,1],dy,[0,1],[0])/(s-correction)\n",
    "    return mx,my,vx,vy,cxy\n"
   ]
  },
  {
   "cell_type": "code",
   "execution_count": 3,
   "metadata": {},
   "outputs": [],
   "source": [
    "def rhoCVplot(ax1b,fymeans,detCVratios,detrhos):\n",
    "    ax1b.spines.left.set_color('k')\n",
    "    ax1b.spines.right.set_color('none')\n",
    "    ax1b.spines.bottom.set_position(('data',-1))\n",
    "    ax1b.spines.left.set_position('zero')\n",
    "    ax1b.spines.bottom.set_color('k')\n",
    "    ax1b.spines.top.set_color('none')\n",
    "    ax1b.xaxis.set_ticks_position('bottom')\n",
    "    ax1b.yaxis.set_ticks_position('left')\n",
    "\n",
    "    #constraint lines\n",
    "    straightline = np.linspace(0,1)\n",
    "    curvedline = np.linspace(1,3)\n",
    "    ax1b.plot(straightline,straightline,color='#dc267f',linestyle='-',linewidth=1,alpha=1,label=r'$f_y = 0, f_x < 1$')\n",
    "    ax1b.plot(curvedline,1/curvedline,'-',color='#648fff',linewidth=1,alpha=1,label=r'$f_y < 0, f_x = 1$')\n",
    "    #ax1b.plot(curvedline,1/curvedline,'-',color='#648fff',linewidth=4,alpha=1)\n",
    "\n",
    "    #positiveprotein\n",
    "    ax1b.fill_between(straightline,straightline,1,color='#fe6100',alpha=0.5,zorder=-1,label=r'$f_y > 0, f_x <1$')\n",
    "    #negproteinbelow\n",
    "    ax1b.fill_between(straightline,straightline,-1,color='#785ef0',alpha=0.5,zorder=-1,label=r'$f_y < 0, f_x <1$')\n",
    "    ax1b.fill_between(curvedline,-1,1/curvedline,color='#785ef0',alpha=0.5,zorder=-1)\n",
    "    #negproteinabove\n",
    "    ax1b.fill_between(curvedline,1,1/curvedline,facecolor='#648fff',edgecolor='#785ef0',hatch='/',alpha=0.5,zorder=-1,label='$f_y < 0, f_x >1$')\n",
    "\n",
    "    #Set axes\n",
    "    #ax1b.set_xlabel(r'$\\mathrm{CV}_{\\bar{x}}/\\mathrm{CV}_{\\bar{y}}$',\n",
    "    #                size=25)\n",
    "    ax1b.set_xticks([1,2,3])\n",
    "\n",
    "\n",
    "    #ax1b.set_ylabel(r\"$\\rho_{\\bar{x}\\bar{y}}$\",size=25,rotation='horizontal')\n",
    "    ax1b.yaxis.set_label_coords(-0.1,0.475)\n",
    "    ax1b.set_yticks([-1,-0.5,0,0.5,1])\n",
    "\n",
    "    ax1b.set_xlim(0,3)\n",
    "    ax1b.set_ylim(-1,1)\n",
    "\n",
    "    ax1b.scatter(detCVratios,detrhos,c=np.sign(fymeans),\n",
    "                cmap=matplotlib.colors.ListedColormap(['#785ef0','#dc267f','#fe6100']),edgecolors='k',s=20)\n",
    "    print(np.sign(fymeans).iloc[0])"
   ]
  },
  {
   "cell_type": "code",
   "execution_count": 4,
   "metadata": {},
   "outputs": [],
   "source": [
    "idx = pd.IndexSlice\n",
    "def rho_CV_analyse(systemdata,byfilelist = ['fileN','fileda','filedb','sysname']):\n",
    "        byfile = systemdata.groupby(byfilelist)\n",
    "        variances = byfile[['<x>','<y>']].var(ddof=0)\n",
    "        means = byfile.mean()\n",
    "        upertmeans = byfile.agg(lambda x: x.head(3).mean())\n",
    "        normcov = byfile[['<x>','<y>']].cov(ddof=0).reset_index(level=-1)\n",
    "        normcov = normcov[normcov.iloc[:,0]=='<y>']['<x>']/(means['<x>']*means['<y>'])\n",
    "        rhos = byfile[['<x>','<y>']].corr().reset_index(level=-1)\n",
    "        rhos = rhos[rhos.iloc[:,0]=='<y>']['<x>']\n",
    "        etas = variances/means[['<x>','<y>']]**2\n",
    "        CVratios = np.sqrt(etas['<x>']/etas['<y>'])\n",
    "        return {'means':means,'rhos':rhos,'CVratios':CVratios,\n",
    "            'etas':etas,'normcov':normcov,'unpertmeans':upertmeans}\n",
    "def linear_pred_rhocv(systemdata,byfilelist = ['fileN','fileda','filedb','sysname']):\n",
    "    byfile = systemdata.groupby(byfilelist)\n",
    "    unpertmeans = byfile.agg(lambda x: x.head(3).mean())\n",
    "    means = byfile.mean()\n",
    "    variances = byfile.var(ddof=0)\n",
    "    pred_eta_xx = lin_eta_xx(variances['lambda']/means['lambda']**2,variances['gamma']/means['gamma']**2,\n",
    "                             means['<F_y>'],means['<F_x>'])\n",
    "    pred_eta_yy = lin_eta_yy(variances['lambda']/means['lambda']**2,variances['gamma']/means['gamma']**2,\n",
    "                             means['<F_y>'],means['<F_x>'])\n",
    "    pred_eta_xy = lin_eta_xy(variances['lambda']/means['lambda']**2,variances['gamma']/means['gamma']**2,\n",
    "                             means['<F_y>'],means['<F_x>'])\n",
    "    pred_rho_cv = pd.concat([pred_eta_xy,pred_eta_xx,pred_eta_yy],axis=1)\n",
    "    pred_rho_cv.columns = ['eta_xy','eta_xx','eta_yy']\n",
    "    pred_rho_cv['rhos'] = pred_rho_cv['eta_xy']/np.sqrt(pred_rho_cv['eta_xx']*pred_rho_cv['eta_yy'])\n",
    "    pred_rho_cv['CVratios'] = np.sqrt(pred_rho_cv['eta_xx']/pred_rho_cv['eta_yy'])\n",
    "    pred_rho_cv['eta_ll'] = variances['lambda']/means['lambda']**2\n",
    "    pred_rho_cv['eta_gg']=variances['gamma']/means['gamma']**2\n",
    "    return pred_rho_cv\n",
    "\n",
    "def foldchange(series,about):\n",
    "      return (series/about)-1"
   ]
  },
  {
   "cell_type": "code",
   "execution_count": 5,
   "metadata": {},
   "outputs": [],
   "source": [
    "paramlist = ['lambda','beta_x','gamma','beta_y','nx','Kx','ny','Ky','offset']\n",
    "byfilelist = ['fileN','fileda','filedb','sysname']"
   ]
  },
  {
   "cell_type": "code",
   "execution_count": 6,
   "metadata": {},
   "outputs": [],
   "source": [
    "#List out the perturbation types: u is up, d is down, n is none. l for lambda, g for gamma.  Add 1,2 to balance the neutral points\n",
    "pertcases = {\"lngn\":[0,1,2],\"lngu\":[3,4,5],\"lngd\":[6,7,8],\n",
    "             \"lugn\":[9,10,11],\"lugu\":[12,13,14],\"lugd\":[15,16,17],\n",
    "             \"ldgn\":[18,19,20],\"ldgu\":[21,22,23],\"ldgd\":[24,25,26]}\n",
    "oneparamperts = pertcases[\"lngn\"]+pertcases[\"lugn\"]+pertcases[\"ldgn\"]+pertcases[\"lngu\"]+pertcases[\"lngd\"]\n",
    "no_nonperts = pertcases[\"lugn\"]+pertcases[\"ldgn\"]+pertcases[\"lngu\"]+pertcases[\"lngd\"]"
   ]
  },
  {
   "cell_type": "code",
   "execution_count": 7,
   "metadata": {},
   "outputs": [],
   "source": [
    "folders = glob.glob('Data/Replicate_IntHill1/*/*')\n",
    "dat = []\n",
    "failedsims = []\n",
    "bootstrapdicts = []\n",
    "for i,folder in enumerate(folders):\n",
    "    files = glob.glob(folder+'/*data.csv',recursive=True)\n",
    "    for j,f in enumerate(files):\n",
    "        data = pd.read_csv(f)\n",
    "        data = data.reset_index().rename(columns={'index':'perturbation'})\n",
    "        numstrings = f.split(\"_\")[-2].split('n')\n",
    "        data['fileN'] = float(numstrings[0])\n",
    "        data['fileda'] = float(numstrings[1])\n",
    "        data['filedb'] = float(numstrings[2])\n",
    "        data['sysname'] = \"/\".join(f.split(\"/\")[:-1])\n",
    "        if (data[['Cov Bal xx','Cov Bal yy','Cov Bal xy']] > 0.05).any(axis=1).any():\n",
    "            failedsims.append(f)\n",
    "            continue\n",
    "        dat.append(data)\n",
    "        bsdict = bsf.pertexp_interpret(data,2000)\n",
    "        bsdict['fileN'] = float(numstrings[0])\n",
    "        bsdict['fileda'] = float(numstrings[1])\n",
    "        bsdict['filedb'] = float(numstrings[2])\n",
    "        bsdict['sysname'] = \"/\".join(f.split(\"/\")[:-1])\n",
    "        for p in paramlist:\n",
    "            try:\n",
    "                bsdict[p] = data[p][0]\n",
    "            except KeyError:\n",
    "                bsdict[p] = 0\n",
    "        bootstrapdicts.append(bsdict)\n",
    "analysed_data = pd.concat(dat)\n",
    "\n",
    "analysed_data = analysed_data[(analysed_data[\"filedb\"]>=0.005)&(analysed_data[\"fileda\"]>=0.005)]\n",
    "\n",
    "pertdata = analysed_data.set_index([\"fileN\",'fileda','filedb','sysname','perturbation'])\n",
    "#pertdata['offset'] = pertdata['offset'].fillna(1)"
   ]
  },
  {
   "cell_type": "code",
   "execution_count": 8,
   "metadata": {},
   "outputs": [],
   "source": [
    "bootstrapped_res = pd.DataFrame(bootstrapdicts)\n",
    "bootstrapped_res.set_index([\"fileN\",'fileda','filedb','sysname'],inplace=True)"
   ]
  },
  {
   "cell_type": "code",
   "execution_count": 9,
   "metadata": {},
   "outputs": [],
   "source": [
    "nofy = bootstrapped_res['E[<F_y>]']==0\n",
    "verticalbarcheck = bootstrapped_res['E[CVx/CVy]'].between(bootstrapped_res['2.5% (rhoxy)'],bootstrapped_res['97.5% (rhoxy)'])\n",
    "horizontalbarcheck = bootstrapped_res['E[rhoxy]'].between(bootstrapped_res['2.5% (CVx/CVy)'],bootstrapped_res['97.5% (CVx/CVy)'])\n",
    "nofyviolators = bootstrapped_res[nofy&~(verticalbarcheck|horizontalbarcheck)]"
   ]
  },
  {
   "cell_type": "code",
   "execution_count": 13,
   "metadata": {},
   "outputs": [
    {
     "data": {
      "text/plain": [
       "220"
      ]
     },
     "execution_count": 13,
     "metadata": {},
     "output_type": "execute_result"
    }
   ],
   "source": [
    "len(bootstrapped_res)"
   ]
  },
  {
   "cell_type": "code",
   "execution_count": 10,
   "metadata": {},
   "outputs": [
    {
     "data": {
      "text/plain": [
       "0.01818181818181818"
      ]
     },
     "execution_count": 10,
     "metadata": {},
     "output_type": "execute_result"
    }
   ],
   "source": [
    "len(nofyviolators)/len(bootstrapped_res)"
   ]
  },
  {
   "cell_type": "code",
   "execution_count": 12,
   "metadata": {},
   "outputs": [
    {
     "data": {
      "text/plain": [
       "[<matplotlib.lines.Line2D at 0x13f2df0d0>]"
      ]
     },
     "execution_count": 12,
     "metadata": {},
     "output_type": "execute_result"
    },
    {
     "data": {
      "image/png": "[encoded data removed]",
      "text/plain": [
       "<Figure size 640x480 with 1 Axes>"
      ]
     },
     "metadata": {},
     "output_type": "display_data"
    }
   ],
   "source": [
    "lowercvbar = bootstrapped_res['E[CVx/CVy]']-bootstrapped_res['2.5% (CVx/CVy)']\n",
    "uppercvbar = bootstrapped_res['97.5% (CVx/CVy)']-bootstrapped_res['E[CVx/CVy]']\n",
    "lowerrhobar = bootstrapped_res['E[rhoxy]']-bootstrapped_res['2.5% (rhoxy)']\n",
    "upperrhobar = bootstrapped_res['97.5% (rhoxy)']-bootstrapped_res['E[rhoxy]']\n",
    "\n",
    "plt.errorbar(bootstrapped_res['E[CVx/CVy]'],bootstrapped_res['E[rhoxy]'],\n",
    "             xerr=[lowercvbar,uppercvbar],\n",
    "             yerr=[lowerrhobar,upperrhobar],\n",
    "             capsize=2,fmt='.',zorder=0,elinewidth=0.5,c='b',alpha=0.5)\n",
    "\n",
    "plt.scatter(bootstrapped_res['E[CVx/CVy]'],bootstrapped_res['E[rhoxy]'],c=np.sign(bootstrapped_res['E[<F_y>]']),edgecolors='k',s=10,linewidths=0.5,cmap='bwr')\n",
    "plt.plot(np.linspace(0,0.1),np.linspace(0,0.1),'k--')"
   ]
  },
  {
   "cell_type": "code",
   "execution_count": null,
   "metadata": {},
   "outputs": [],
   "source": []
  }
 ],
 "metadata": {
  "kernelspec": {
   "display_name": "sci_comp0823",
   "language": "python",
   "name": "python3"
  },
  "language_info": {
   "codemirror_mode": {
    "name": "ipython",
    "version": 3
   },
   "file_extension": ".py",
   "mimetype": "text/x-python",
   "name": "python",
   "nbconvert_exporter": "python",
   "pygments_lexer": "ipython3",
   "version": "3.11.9"
  }
 },
 "nbformat": 4,
 "nbformat_minor": 2
}
